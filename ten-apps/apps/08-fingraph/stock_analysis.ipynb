{
 "cells": [
  {
   "cell_type": "code",
   "execution_count": 74,
   "metadata": {},
   "outputs": [],
   "source": [
    "from pandas_datareader import data\n",
    "import datetime\n",
    "from bokeh.plotting import figure, show, output_file\n",
    "\n",
    "start = datetime.datetime(2016, 10, 1)\n",
    "end = datetime.datetime(2017, 3, 10)\n",
    "\n",
    "# name é o stock symbol da empresa (pesquisar no Google)\n",
    "df = data.DataReader(name=\"GOOG\", data_source=\"quandl\", start=start, end=end)\n",
    "\n",
    "p = figure(x_axis_type=\"datetime\", width=1000, height=300, responsive=True)\n",
    "p.title.text = \"Candlestick chart\"\n",
    "p.grid.grid_line_alpha = 0\n",
    "\n",
    "hours_12 = 12*60*60*1000\n",
    "\n",
    "def inc_dec(c, o):\n",
    "    if c > o:\n",
    "        return \"Increase\"\n",
    "    elif c < o:\n",
    "        return \"Decrease\"\n",
    "    return \"Equal\"\n",
    "    \n",
    "df[\"Status\"] = [inc_dec(c, o) for c, o in zip(df.Close, df.Open)]\n",
    "df[\"Middle\"] = (df.Open + df.Close)/2\n",
    "df[\"Height\"] = abs(df.Open-df.Close)\n",
    "\n",
    "p.segment(df.index, df.High, df.index, df.Low, color=\"black\")\n",
    "\n",
    "p.rect(df.index[df.Status==\"Increase\"], df.Middle[df.Status==\"Increase\"],\n",
    "       hours_12, df.Height[df.Status==\"Increase\"], fill_color=\"#CCFFFF\", line_color=\"black\")\n",
    "\n",
    "p.rect(df.index[df.Status==\"Decrease\"], df.Middle[df.Status==\"Decrease\"],\n",
    "       hours_12, df.Height[df.Status==\"Decrease\"], fill_color=\"#FF3333\", line_color=\"black\")\n",
    "\n",
    "output_file(\"CS.html\")\n",
    "show(p)"
   ]
  }
 ],
 "metadata": {
  "kernelspec": {
   "display_name": "Python 3",
   "language": "python",
   "name": "python3"
  },
  "language_info": {
   "codemirror_mode": {
    "name": "ipython",
    "version": 3
   },
   "file_extension": ".py",
   "mimetype": "text/x-python",
   "name": "python",
   "nbconvert_exporter": "python",
   "pygments_lexer": "ipython3",
   "version": "3.6.1"
  }
 },
 "nbformat": 4,
 "nbformat_minor": 2
}
