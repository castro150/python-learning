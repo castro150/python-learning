{
 "cells": [
  {
   "cell_type": "code",
   "execution_count": 23,
   "metadata": {},
   "outputs": [],
   "source": [
    "import pandas\n",
    "from bokeh.plotting import figure, output_file, show\n",
    "\n",
    "df = pandas.read_excel('verlegenhuken.xlsx')\n",
    "\n",
    "p = figure(plot_width=500, plot_height=400, tools='pan,resize', logo=None)\n",
    "p.title.text = 'Temperature and Air Pressure'\n",
    "p.title.text_color = 'Gray'\n",
    "p.title.text_font = 'arial'\n",
    "p.title.text_font_style = 'bold'\n",
    "p.xaxis.minor_tick_line_color = None\n",
    "p.yaxis.minor_tick_line_color = None\n",
    "p.xaxis.axis_label = 'Pressure (hPa)'\n",
    "p.yaxis.axis_label = 'Temperature (°C)'\n",
    "\n",
    "p.circle(df['Temperature']/10, df['Pressure']/10, size=0.5, color='blue', alpha=0.5)\n",
    "output_file('ex_plotting.html')\n",
    "show(p)"
   ]
  }
 ],
 "metadata": {
  "kernelspec": {
   "display_name": "Python 3",
   "language": "python",
   "name": "python3"
  },
  "language_info": {
   "codemirror_mode": {
    "name": "ipython",
    "version": 3
   },
   "file_extension": ".py",
   "mimetype": "text/x-python",
   "name": "python",
   "nbconvert_exporter": "python",
   "pygments_lexer": "ipython3",
   "version": "3.6.1"
  }
 },
 "nbformat": 4,
 "nbformat_minor": 2
}
