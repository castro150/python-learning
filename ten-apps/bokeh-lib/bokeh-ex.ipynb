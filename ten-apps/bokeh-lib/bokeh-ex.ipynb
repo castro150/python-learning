{
 "cells": [
  {
   "cell_type": "code",
   "execution_count": 8,
   "metadata": {
    "collapsed": true
   },
   "outputs": [],
   "source": [
    "from bokeh.charts import Scatter\n",
    "import pandas\n",
    "\n",
    "df = pandas.DataFrame(columns=['X', 'Y'])\n",
    "df['X'] = [1, 2, 3, 4, 5]\n",
    "df['Y'] = [5, 6, 4, 5, 3]\n",
    "\n",
    "p = Scatter(df, x='X', y='Y', title='Temperature Observations', xlabel='Day of observation', ylabel='Temperature')"
   ]
  },
  {
   "cell_type": "code",
   "execution_count": 6,
   "metadata": {
    "collapsed": true
   },
   "outputs": [],
   "source": [
    "from bokeh.plotting import figure, output_file, show\n",
    "\n",
    "p = figure(plot_width=500, plot_height=400)\n",
    "p.title.text = 'Temperature Observations'\n",
    "p.title.text_color = 'orange'\n",
    "p.title.text_font = 'times'\n",
    "p.title.text_font_style = 'italic'\n",
    "\n",
    "p.xaxis.axis_label = 'Day of observation'\n",
    "p.yaxis.axis_label = 'Temperature'\n",
    "\n",
    "p.circle([1, 2, 3, 4, 5], [5, 6, 4, 5, 3], size=[8, 12, 14, 15, 20], color='red', alpha=0.5)\n",
    "p.line([1, 2, 3, 4, 5], [5, 6, 4, 5, 3], color='red', alpha=0.5)\n",
    "# p.triangle([1, 2, 3, 4, 5], [5, 6, 4, 5, 3], size=5, color='red', alpha=0.5)\n",
    "output_file('scatter_plotting.html')\n",
    "show(p)"
   ]
  },
  {
   "cell_type": "code",
   "execution_count": 31,
   "metadata": {},
   "outputs": [],
   "source": [
    "# http://www.google.com/finance/historical?q=NASDAQ:ADBE&startdate=Jan+01%2C+2009&enddate=Aug+2%2C+2012&output=csv\n",
    "from bokeh.plotting import figure, output_file, show\n",
    "import pandas\n",
    "\n",
    "# parse_dates recebe a coluna com os dados\n",
    "df = pandas.read_csv('http://www.google.com/finance/historical?q=NASDAQ:ADBE&startdate=Jan+01%2C+2009&enddate=Aug+2%2C+2012&output=csv', parse_dates=['Date'])\n",
    "\n",
    "p = figure(width=500, height=250, x_axis_type='datetime', responsive=True)\n",
    "p.line(df['Date'], df['Close'], color='Orange', alpha=0.5)\n",
    "output_file('time_series.html')\n",
    "show(p)"
   ]
  },
  {
   "cell_type": "code",
   "execution_count": 48,
   "metadata": {},
   "outputs": [],
   "source": [
    "# plotando a saída o detector de movimentos\n",
    "from bokeh.plotting import figure, output_file, show\n",
    "from bokeh.models import HoverTool, ColumnDataSource\n",
    "from datetime import datetime\n",
    "import pandas\n",
    "\n",
    "df = pandas.read_csv('times-ex.csv')\n",
    "df['Start_string'] = df['Start']\n",
    "df['End_string'] = df['End']\n",
    "df['Start'] = [datetime.strptime(date, '%Y-%m-%d %H:%M:%S.%f') for date in df['Start_string']]\n",
    "df['End'] = [datetime.strptime(date, '%Y-%m-%d %H:%M:%S.%f') for date in df['End_string']]\n",
    "cds = ColumnDataSource(df)\n",
    "\n",
    "p = figure(width=500, height=100, x_axis_type='datetime', responsive=True, title='Motion Graph')\n",
    "p.yaxis.minor_tick_line_color = None\n",
    "p.ygrid[0].ticker.desired_num_ticks = 1\n",
    "\n",
    "hover = HoverTool(tooltips=[('Start', '@Start_string'), ('End', '@End_string')])\n",
    "p.add_tools(hover)\n",
    "\n",
    "# plotando um quadrante\n",
    "p.quad(left='Start', right='End', top=1, bottom=0, color='blue', source=cds)\n",
    "#p.quad(left=[1,5,9], right=[2,7,10], top=1, bottom=0, color='blue')\n",
    "output_file('motion_graph.html')\n",
    "show(p)"
   ]
  }
 ],
 "metadata": {
  "kernelspec": {
   "display_name": "Python 3",
   "language": "python",
   "name": "python3"
  },
  "language_info": {
   "codemirror_mode": {
    "name": "ipython",
    "version": 3
   },
   "file_extension": ".py",
   "mimetype": "text/x-python",
   "name": "python",
   "nbconvert_exporter": "python",
   "pygments_lexer": "ipython3",
   "version": "3.6.1"
  }
 },
 "nbformat": 4,
 "nbformat_minor": 2
}
