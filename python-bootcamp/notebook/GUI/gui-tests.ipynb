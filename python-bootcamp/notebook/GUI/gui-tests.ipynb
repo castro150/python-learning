{
 "cells": [
  {
   "cell_type": "code",
   "execution_count": 1,
   "metadata": {
    "collapsed": true
   },
   "outputs": [],
   "source": [
    "from __future__ import print_function\n",
    "from ipywidgets import interact, interactive, fixed\n",
    "import ipywidgets as widgets"
   ]
  },
  {
   "cell_type": "code",
   "execution_count": 28,
   "metadata": {},
   "outputs": [
    {
     "data": {
      "application/vnd.jupyter.widget-view+json": {
       "model_id": "2665dd5003c1408ebff9de59861f3c3a"
      }
     },
     "metadata": {},
     "output_type": "display_data"
    },
    {
     "data": {
      "application/vnd.jupyter.widget-view+json": {
       "model_id": "06b39097c83643808176e5f3800f35b8"
      }
     },
     "metadata": {},
     "output_type": "display_data"
    },
    {
     "data": {
      "application/vnd.jupyter.widget-view+json": {
       "model_id": "88d4541926564b4998812259cb3f5d66"
      }
     },
     "metadata": {},
     "output_type": "display_data"
    },
    {
     "data": {
      "application/vnd.jupyter.widget-view+json": {
       "model_id": "c7a6e65d92a04e0aac4b3486d5f62a9f"
      }
     },
     "metadata": {},
     "output_type": "display_data"
    },
    {
     "data": {
      "application/vnd.jupyter.widget-view+json": {
       "model_id": "45b08ed41492482b8499799591732a75"
      }
     },
     "metadata": {},
     "output_type": "display_data"
    },
    {
     "data": {
      "application/vnd.jupyter.widget-view+json": {
       "model_id": "b985df22ae9649838031cbb595930588"
      }
     },
     "metadata": {},
     "output_type": "display_data"
    },
    {
     "data": {
      "application/vnd.jupyter.widget-view+json": {
       "model_id": "f33610f4176b4ec2acfe32315c543d36"
      }
     },
     "metadata": {},
     "output_type": "display_data"
    },
    {
     "data": {
      "application/vnd.jupyter.widget-view+json": {
       "model_id": "17185602a5e84651b93319e0188868c2"
      }
     },
     "metadata": {},
     "output_type": "display_data"
    },
    {
     "data": {
      "text/plain": [
       "<function __main__.f>"
      ]
     },
     "execution_count": 28,
     "metadata": {},
     "output_type": "execute_result"
    }
   ],
   "source": [
    "def f(x):\n",
    "    print('retorno', x)\n",
    "\n",
    "interact(f, x=10)\n",
    "interact(f, x=True)\n",
    "interact(f, x='Type')\n",
    "\n",
    "@interact(check=True, scroll=5.0, fix=fixed(7))\n",
    "def g(check, scroll, fix):\n",
    "    print('check: ' + str(check) + ' e scroll: ' + str(scroll))\n",
    "    print('fix: ' + str(fix))\n",
    "    \n",
    "@interact(value = widgets.IntSlider(min=-2, max=8, step=2, value=0))\n",
    "def printing(value):\n",
    "    print('value: ' + str(value))\n",
    "    \n",
    "interact(f, x=['a', 2, 'c'])\n",
    "interact(f, x=(2,8,2))\n",
    "interact(f, x={'name-dropdown-1':'value-dropdown-1','name-dropdown-2':'value-dropdown-2'})"
   ]
  },
  {
   "cell_type": "code",
   "execution_count": 30,
   "metadata": {},
   "outputs": [
    {
     "data": {
      "application/vnd.jupyter.widget-view+json": {
       "model_id": "25eb13ce4b1740a5a851ac57c54569e3"
      }
     },
     "metadata": {},
     "output_type": "display_data"
    },
    {
     "data": {
      "text/plain": [
       "<function __main__.f>"
      ]
     },
     "execution_count": 30,
     "metadata": {},
     "output_type": "execute_result"
    }
   ],
   "source": [
    "from IPython.utils.py3compat import annotate\n",
    "\n",
    "@annotate(x=1.0)\n",
    "def f(x):\n",
    "    print('retorno:', x)\n",
    "    \n",
    "interact(f) # chama o interact de um jeito mais rápido"
   ]
  },
  {
   "cell_type": "code",
   "execution_count": null,
   "metadata": {
    "collapsed": true
   },
   "outputs": [],
   "source": []
  }
 ],
 "metadata": {
  "kernelspec": {
   "display_name": "Python 2",
   "language": "python",
   "name": "python2"
  },
  "language_info": {
   "codemirror_mode": {
    "name": "ipython",
    "version": 2
   },
   "file_extension": ".py",
   "mimetype": "text/x-python",
   "name": "python",
   "nbconvert_exporter": "python",
   "pygments_lexer": "ipython2",
   "version": "2.7.13"
  }
 },
 "nbformat": 4,
 "nbformat_minor": 2
}
