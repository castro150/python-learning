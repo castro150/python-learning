{
 "cells": [
  {
   "cell_type": "code",
   "execution_count": 56,
   "metadata": {
    "collapsed": true
   },
   "outputs": [],
   "source": [
    "matrix = [[1, 2, 3], [4, 5, 6], [7, 8, 9]]"
   ]
  },
  {
   "cell_type": "code",
   "execution_count": 61,
   "metadata": {},
   "outputs": [
    {
     "data": {
      "text/plain": [
       "[1, 4, 7]"
      ]
     },
     "execution_count": 61,
     "metadata": {},
     "output_type": "execute_result"
    }
   ],
   "source": [
    "[row[0] for row in matrix]"
   ]
  },
  {
   "cell_type": "code",
   "execution_count": 62,
   "metadata": {},
   "outputs": [
    {
     "data": {
      "text/plain": [
       "3"
      ]
     },
     "execution_count": 62,
     "metadata": {},
     "output_type": "execute_result"
    }
   ],
   "source": [
    "matrix[0][2]"
   ]
  },
  {
   "cell_type": "code",
   "execution_count": 67,
   "metadata": {
    "collapsed": true
   },
   "outputs": [],
   "source": [
    "my_dict = {'key1':'value1','key2':'value2'}"
   ]
  },
  {
   "cell_type": "code",
   "execution_count": 69,
   "metadata": {
    "collapsed": true
   },
   "outputs": [],
   "source": [
    "my_dict['key1'] = 'other value'"
   ]
  },
  {
   "cell_type": "code",
   "execution_count": 70,
   "metadata": {},
   "outputs": [
    {
     "data": {
      "text/plain": [
       "'other value'"
      ]
     },
     "execution_count": 70,
     "metadata": {},
     "output_type": "execute_result"
    }
   ],
   "source": [
    "my_dict['key1']"
   ]
  },
  {
   "cell_type": "code",
   "execution_count": 71,
   "metadata": {
    "collapsed": true
   },
   "outputs": [],
   "source": [
    "d = {'key1':1,'key2':2,'key3':3}"
   ]
  },
  {
   "cell_type": "code",
   "execution_count": 75,
   "metadata": {},
   "outputs": [
    {
     "data": {
      "text/plain": [
       "1"
      ]
     },
     "execution_count": 75,
     "metadata": {},
     "output_type": "execute_result"
    }
   ],
   "source": [
    "d['key1']"
   ]
  },
  {
   "cell_type": "code",
   "execution_count": 76,
   "metadata": {},
   "outputs": [
    {
     "data": {
      "text/plain": [
       "('key2', 2)"
      ]
     },
     "execution_count": 76,
     "metadata": {},
     "output_type": "execute_result"
    }
   ],
   "source": [
    "d.items()[1]"
   ]
  },
  {
   "cell_type": "code",
   "execution_count": 6,
   "metadata": {
    "collapsed": true
   },
   "outputs": [],
   "source": [
    "l = (1,2,3,4)"
   ]
  },
  {
   "cell_type": "code",
   "execution_count": 7,
   "metadata": {
    "collapsed": true
   },
   "outputs": [],
   "source": [
    "t = (l[:3])"
   ]
  },
  {
   "cell_type": "code",
   "execution_count": 8,
   "metadata": {},
   "outputs": [
    {
     "data": {
      "text/plain": [
       "(1, 2, 3)"
      ]
     },
     "execution_count": 8,
     "metadata": {},
     "output_type": "execute_result"
    }
   ],
   "source": [
    "t"
   ]
  },
  {
   "cell_type": "code",
   "execution_count": 9,
   "metadata": {
    "collapsed": true
   },
   "outputs": [],
   "source": [
    "l = [t[:3]]"
   ]
  },
  {
   "cell_type": "code",
   "execution_count": 15,
   "metadata": {
    "collapsed": true
   },
   "outputs": [],
   "source": [
    "l = [(1,2,3,4)]"
   ]
  },
  {
   "cell_type": "code",
   "execution_count": 16,
   "metadata": {},
   "outputs": [
    {
     "data": {
      "text/plain": [
       "3"
      ]
     },
     "execution_count": 16,
     "metadata": {},
     "output_type": "execute_result"
    }
   ],
   "source": [
    "l[0][2]"
   ]
  },
  {
   "cell_type": "code",
   "execution_count": 31,
   "metadata": {},
   "outputs": [
    {
     "name": "stdout",
     "output_type": "stream",
     "text": [
      "set([0, 1, 2, 'teste'])\n",
      "teste\n",
      "set([0, 1, 2, 3, 'teste'])\n",
      "set([0, 1, 2, 'teste'])\n",
      "set([3])\n",
      "set([])\n",
      "set([2, 3, 5])\n"
     ]
    }
   ],
   "source": [
    "s = set()\n",
    "\n",
    "s.add('teste')\n",
    "s.add(1)\n",
    "s.add(0)\n",
    "s.add(2)\n",
    "\n",
    "print s\n",
    "print list(s)[3]\n",
    "\n",
    "sc = s.copy()\n",
    "s.add(3)\n",
    "\n",
    "print s\n",
    "print sc\n",
    "print s.difference(sc)\n",
    "print sc.difference(s)\n",
    "s1 = {1,2,3,4,5}\n",
    "s1.difference_update({1,4,6})\n",
    "print s1"
   ]
  },
  {
   "cell_type": "code",
   "execution_count": 41,
   "metadata": {
    "collapsed": true
   },
   "outputs": [],
   "source": [
    "l = [5,3,4,6,1]"
   ]
  },
  {
   "cell_type": "code",
   "execution_count": 42,
   "metadata": {
    "collapsed": true
   },
   "outputs": [],
   "source": [
    "l.sort()"
   ]
  },
  {
   "cell_type": "code",
   "execution_count": 43,
   "metadata": {},
   "outputs": [
    {
     "data": {
      "text/plain": [
       "[1, 3, 4, 5, 6]"
      ]
     },
     "execution_count": 43,
     "metadata": {},
     "output_type": "execute_result"
    }
   ],
   "source": [
    "l"
   ]
  },
  {
   "cell_type": "code",
   "execution_count": 44,
   "metadata": {
    "collapsed": true
   },
   "outputs": [],
   "source": [
    "d = {'a':'1','b':2}"
   ]
  },
  {
   "cell_type": "code",
   "execution_count": 46,
   "metadata": {},
   "outputs": [
    {
     "data": {
      "text/plain": [
       "8.5"
      ]
     },
     "execution_count": 46,
     "metadata": {},
     "output_type": "execute_result"
    }
   ],
   "source": [
    "3 + 1.5 + 4"
   ]
  },
  {
   "cell_type": "code",
   "execution_count": 5,
   "metadata": {},
   "outputs": [
    {
     "name": "stdout",
     "output_type": "stream",
     "text": [
      "3\n",
      "2\n",
      "Teste de valor do x e 3\n",
      "Teste FIM \n",
      "um valor atual: 3 outra coisa\n",
      "('um valor atual:', 3, 'outra coisa')\n",
      "1 2 3\n"
     ]
    }
   ],
   "source": [
    "print len('123')\n",
    "print str(2)\n",
    "print 'Teste de {x} e {y}'.format(y = 3, x = 'valor do x')\n",
    "print 'Teste ' + 'FIM '\n",
    "print 'um valor atual:', 3, 'outra coisa'\n",
    "s = 'um valor atual:', 3, 'outra coisa'\n",
    "print s\n",
    "print 1, 2, 3"
   ]
  },
  {
   "cell_type": "code",
   "execution_count": 17,
   "metadata": {
    "collapsed": true
   },
   "outputs": [],
   "source": [
    "d = {'k1':1,'k2':2,'k3':3}"
   ]
  },
  {
   "cell_type": "code",
   "execution_count": 19,
   "metadata": {},
   "outputs": [
    {
     "name": "stdout",
     "output_type": "stream",
     "text": [
      "k3\n",
      "3\n",
      "k2\n",
      "2\n",
      "k1\n",
      "1\n",
      "('k3', 3)\n",
      "k3\n",
      "3\n",
      "('k2', 2)\n",
      "k2\n",
      "2\n",
      "('k1', 1)\n",
      "k1\n",
      "1\n"
     ]
    }
   ],
   "source": [
    "for k,v in d.iteritems():\n",
    "    print k\n",
    "    print v \n",
    "    \n",
    "for item in d.iteritems():\n",
    "    print item\n",
    "    print item[0]\n",
    "    print item[1]"
   ]
  },
  {
   "cell_type": "code",
   "execution_count": 9,
   "metadata": {},
   "outputs": [
    {
     "data": {
      "text/plain": [
       "True"
      ]
     },
     "execution_count": 9,
     "metadata": {},
     "output_type": "execute_result"
    }
   ],
   "source": [
    "x = xrange(1, 6)\n",
    "x2 = range(1, 6)\n",
    "x2 == list(x)"
   ]
  },
  {
   "cell_type": "code",
   "execution_count": 2,
   "metadata": {},
   "outputs": [
    {
     "name": "stdout",
     "output_type": "stream",
     "text": [
      "[2, 6, 10, 14, 18, 22]\n"
     ]
    }
   ],
   "source": [
    "lst = [x+2 for x in [x*2 for x in range(11) if x % 2 == 0]]\n",
    "print lst"
   ]
  },
  {
   "cell_type": "code",
   "execution_count": 12,
   "metadata": {},
   "outputs": [
    {
     "name": "stdout",
     "output_type": "stream",
     "text": [
      "4\n",
      "7\n",
      "Calling lambda\n",
      "9\n"
     ]
    }
   ],
   "source": [
    "square = lambda num: num**2\n",
    "\n",
    "print square(2)\n",
    "\n",
    "adder = lambda a, b: a + b\n",
    "\n",
    "print adder(2, 5)\n",
    "\n",
    "def lambda_caller(lambda_exp):\n",
    "    print 'Calling lambda'\n",
    "    print lambda_exp(3)\n",
    "    \n",
    "lambda_caller(square)"
   ]
  },
  {
   "cell_type": "code",
   "execution_count": 33,
   "metadata": {},
   "outputs": [
    {
     "name": "stdout",
     "output_type": "stream",
     "text": [
      "7 is in the range\n"
     ]
    }
   ],
   "source": [
    "def ran_check(num, low, high):\n",
    "    #Check if num is between low and high (including low and high)\n",
    "    if num in range(low, high + 1):  \n",
    "        print \"%s is in the range\" %str(num)  \n",
    "    else :  \n",
    "        print \"The number is outside the range.\"\n",
    "        \n",
    "ran_check(7, 5, 10)"
   ]
  },
  {
   "cell_type": "code",
   "execution_count": 41,
   "metadata": {},
   "outputs": [
    {
     "name": "stdout",
     "output_type": "stream",
     "text": [
      "True\n",
      "True\n"
     ]
    }
   ],
   "source": [
    "print 'a'.islower()\n",
    "print 'A'.isupper()"
   ]
  },
  {
   "cell_type": "code",
   "execution_count": 59,
   "metadata": {},
   "outputs": [
    {
     "name": "stdout",
     "output_type": "stream",
     "text": [
      "escreva algo: 1\n",
      "valor 1\n"
     ]
    }
   ],
   "source": [
    "x = raw_input('escreva algo: ')\n",
    "print 'valor', x"
   ]
  },
  {
   "cell_type": "code",
   "execution_count": 28,
   "metadata": {
    "collapsed": true
   },
   "outputs": [],
   "source": [
    "class Dog(object):\n",
    "    species = 'mammal'\n",
    "    \n",
    "    def __init__(self, breed, fur = True):\n",
    "        self.breed = breed\n",
    "        self.fur = fur"
   ]
  },
  {
   "cell_type": "code",
   "execution_count": 29,
   "metadata": {},
   "outputs": [
    {
     "name": "stdout",
     "output_type": "stream",
     "text": [
      "Lab\n",
      "mammal\n",
      "True\n",
      "Huskie\n",
      "mammal\n",
      "True\n",
      "PitBull\n",
      "mammal\n",
      "False\n",
      "other\n",
      "other\n",
      "other\n"
     ]
    }
   ],
   "source": [
    "sam = Dog('Lab')\n",
    "print sam.breed\n",
    "print sam.species\n",
    "print sam.fur\n",
    "\n",
    "will = Dog('Huskie')\n",
    "print will.breed\n",
    "print will.species\n",
    "print will.fur\n",
    "\n",
    "mike = Dog('PitBull', False)\n",
    "print mike.breed\n",
    "print mike.species\n",
    "print mike.fur\n",
    "\n",
    "Dog.species = 'other'\n",
    "print sam.species\n",
    "print will.species\n",
    "print mike.species"
   ]
  },
  {
   "cell_type": "code",
   "execution_count": null,
   "metadata": {
    "collapsed": true
   },
   "outputs": [],
   "source": [
    "class Animal(object):\n",
    "    def __init__(self):\n",
    "        print 'Animal created'\n",
    "\n",
    "    def whoAmI(self):\n",
    "        print 'Animal'\n",
    "\n",
    "    def eat(self):\n",
    "        print 'Eating'\n",
    "\n",
    "\n",
    "class Dog(Animal):\n",
    "    def __init__(self):\n",
    "        Animal.__init__(self)\n",
    "        print 'Dog created'\n",
    "\n",
    "    def whoAmI(self):\n",
    "        print 'Dog'\n",
    "\n",
    "    def bark(self):\n",
    "        print 'Woof!'"
   ]
  },
  {
   "cell_type": "code",
   "execution_count": 3,
   "metadata": {},
   "outputs": [
    {
     "name": "stdout",
     "output_type": "stream",
     "text": [
      "Type error with code\n",
      "Finally, over all\n"
     ]
    }
   ],
   "source": [
    "try:\n",
    "    2 + 's'\n",
    "except TypeError: # Pode deixar sem o erro especificado, para capturar qualquer um\n",
    "    print 'Type error with code'\n",
    "finally:\n",
    "    print 'Finally, over all'"
   ]
  },
  {
   "cell_type": "code",
   "execution_count": 4,
   "metadata": {
    "collapsed": true
   },
   "outputs": [],
   "source": [
    "def ask():\n",
    "    while True:\n",
    "        try:\n",
    "            integer = int(raw_input('Input an integer: '))\n",
    "        except:\n",
    "            print 'An error occurred! Please try again!'\n",
    "            continue\n",
    "        else:\n",
    "            print 'Thank you, you number squared is:', integer**2\n",
    "            break"
   ]
  },
  {
   "cell_type": "code",
   "execution_count": 5,
   "metadata": {},
   "outputs": [
    {
     "name": "stdout",
     "output_type": "stream",
     "text": [
      "Input an integer: null\n",
      "An error occurred! Please try again!\n",
      "Input an integer: e\n",
      "An error occurred! Please try again!\n",
      "Input an integer: 4\n",
      "Thank you, you number squared is: 16\n"
     ]
    }
   ],
   "source": [
    "ask()"
   ]
  },
  {
   "cell_type": "code",
   "execution_count": 1,
   "metadata": {},
   "outputs": [
    {
     "data": {
      "text/plain": [
       "2.0"
      ]
     },
     "execution_count": 1,
     "metadata": {},
     "output_type": "execute_result"
    }
   ],
   "source": [
    "import math\n",
    "math.sqrt(4)"
   ]
  },
  {
   "cell_type": "code",
   "execution_count": 2,
   "metadata": {},
   "outputs": [
    {
     "data": {
      "text/plain": [
       "2.0"
      ]
     },
     "execution_count": 2,
     "metadata": {},
     "output_type": "execute_result"
    }
   ],
   "source": [
    "from math import sqrt\n",
    "sqrt(4)"
   ]
  },
  {
   "cell_type": "code",
   "execution_count": 8,
   "metadata": {},
   "outputs": [
    {
     "name": "stdout",
     "output_type": "stream",
     "text": [
      "[32.0, 72.5, 104.0, 212.0]\n",
      "[32.0, 72.5, 104.0, 212.0]\n",
      "[12, 15, 18]\n"
     ]
    }
   ],
   "source": [
    "def fahrenheit(T):\n",
    "    return ((float(9)/5)*T + 32)\n",
    "    \n",
    "temp = [0, 22.5, 40,100]\n",
    "\n",
    "print map(fahrenheit, temp)\n",
    "print map(lambda T: (float(9)/5)*T + 32, temp)\n",
    "\n",
    "a = range(1, 4)\n",
    "b = range(4, 7)\n",
    "c = range(7, 10)\n",
    "print map(lambda x, y, z: x + y + z, a, b, c)"
   ]
  },
  {
   "cell_type": "code",
   "execution_count": 20,
   "metadata": {},
   "outputs": [
    {
     "name": "stdout",
     "output_type": "stream",
     "text": [
      "28\n",
      "77\n"
     ]
    }
   ],
   "source": [
    "print reduce(lambda x, y: x + y, range(8))\n",
    "\n",
    "l = [5, 2, 8, 10, 77, 3, 1]\n",
    "print reduce(lambda x, y: x if x > y else y, l) # Retorna o maior elemento"
   ]
  },
  {
   "cell_type": "code",
   "execution_count": 19,
   "metadata": {},
   "outputs": [
    {
     "name": "stdout",
     "output_type": "stream",
     "text": [
      "[0, 2, 4, 6, 8]\n",
      "[4, 5, 6, 7, 8, 9]\n"
     ]
    }
   ],
   "source": [
    "print filter(lambda num: num % 2 == 0, range(10))\n",
    "print filter(lambda num: num > 3, range(10))"
   ]
  },
  {
   "cell_type": "code",
   "execution_count": 27,
   "metadata": {},
   "outputs": [
    {
     "name": "stdout",
     "output_type": "stream",
     "text": [
      "[(0, 5), (1, 6), (2, 7), (3, 8), (4, 9)]\n",
      "2\n",
      "2\n",
      "9\n",
      "4\n",
      "5\n",
      "[2, 2, 9, 4, 5]\n"
     ]
    }
   ],
   "source": [
    "print zip(range(5), range(5,10))\n",
    "\n",
    "a = [1, 2, 3, 4, 5]\n",
    "b = [2, 2, 9, 1, 1]\n",
    "for pair in zip(a, b):\n",
    "    print max(pair)\n",
    "    \n",
    "print map(lambda pair: max(pair), zip(a, b))"
   ]
  },
  {
   "cell_type": "code",
   "execution_count": 28,
   "metadata": {},
   "outputs": [
    {
     "name": "stdout",
     "output_type": "stream",
     "text": [
      "[('a', 4), ('b', 5)]\n",
      "[('c', 1), ('d', 2)]\n"
     ]
    }
   ],
   "source": [
    "d1 = {'a':1, 'b':2}\n",
    "d2 = {'c':4, 'd':5}\n",
    "# Trocando valores e propriedades\n",
    "print zip(d1, d2.itervalues())\n",
    "print zip(d2, d1.itervalues())"
   ]
  },
  {
   "cell_type": "code",
   "execution_count": 32,
   "metadata": {},
   "outputs": [
    {
     "name": "stdout",
     "output_type": "stream",
     "text": [
      "0: a\n",
      "1: b\n",
      "2: c\n",
      "3: 4\n"
     ]
    }
   ],
   "source": [
    "l = ['a', 'b', 'c', 4]\n",
    "for index, item in enumerate(l): # Enumerate cria indices e coloca em tuplas\n",
    "    print str(index) + ': ' + str(item)"
   ]
  },
  {
   "cell_type": "code",
   "execution_count": 34,
   "metadata": {},
   "outputs": [
    {
     "name": "stdout",
     "output_type": "stream",
     "text": [
      "True\n",
      "False\n",
      "False\n",
      "True\n"
     ]
    }
   ],
   "source": [
    "print all([True, True, True, True])\n",
    "print all([True, True, False, True])\n",
    "print any([False, False, False, False])\n",
    "print any([True, True, False, True])"
   ]
  },
  {
   "cell_type": "code",
   "execution_count": 35,
   "metadata": {},
   "outputs": [
    {
     "name": "stdout",
     "output_type": "stream",
     "text": [
      "(2+3j)\n",
      "(2+3j)\n"
     ]
    }
   ],
   "source": [
    "print complex(2,3)\n",
    "print complex('2+3j')"
   ]
  },
  {
   "cell_type": "code",
   "execution_count": 38,
   "metadata": {},
   "outputs": [
    {
     "data": {
      "text/plain": [
       "[(0, 4), (1, 5), (2, 6)]"
      ]
     },
     "execution_count": 38,
     "metadata": {},
     "output_type": "execute_result"
    }
   ],
   "source": [
    "list(enumerate([4,5,6]))"
   ]
  },
  {
   "cell_type": "code",
   "execution_count": 61,
   "metadata": {},
   "outputs": [
    {
     "data": {
      "text/plain": [
       "{'0': 4, '1': 5, '2': 6}"
      ]
     },
     "execution_count": 61,
     "metadata": {},
     "output_type": "execute_result"
    }
   ],
   "source": [
    "{str(x):y for x, y in enumerate([4,5,6])}"
   ]
  },
  {
   "cell_type": "code",
   "execution_count": 18,
   "metadata": {},
   "outputs": [
    {
     "data": {
      "text/plain": [
       "<function __main__.func>"
      ]
     },
     "execution_count": 18,
     "metadata": {},
     "output_type": "execute_result"
    }
   ],
   "source": [
    "locals()\n",
    "globals()\n",
    "\n",
    "def func():\n",
    "    return 1\n",
    "\n",
    "a = 1\n",
    "\n",
    "globals()['func']()\n",
    "\n",
    "func2 = func\n",
    "del func\n",
    "\n",
    "func2"
   ]
  },
  {
   "cell_type": "code",
   "execution_count": 24,
   "metadata": {},
   "outputs": [
    {
     "name": "stdout",
     "output_type": "stream",
     "text": [
      "before outside\n",
      "after outside\n",
      "before inside\n",
      "with complement\n",
      "after inside\n"
     ]
    }
   ],
   "source": [
    "def this_completes(func):\n",
    "    print 'before outside'\n",
    "    def wrap():\n",
    "        print 'before inside'\n",
    "        func()\n",
    "        print 'after inside'\n",
    "    print 'after outside'\n",
    "    return wrap\n",
    "\n",
    "@this_completes\n",
    "def need_complete():\n",
    "    print 'with complement'\n",
    "\n",
    "need_complete()"
   ]
  },
  {
   "cell_type": "code",
   "execution_count": 39,
   "metadata": {},
   "outputs": [
    {
     "name": "stdout",
     "output_type": "stream",
     "text": [
      "0\n",
      "1\n",
      "2\n",
      "0\n",
      "1\n",
      "2\n",
      "ten\n",
      "<iterator object at 0x7fb0c80c3a50>\n",
      "t\n",
      "e\n",
      "n\n",
      "0\n",
      "1\n",
      "4\n",
      "9\n",
      "16\n",
      "fast 0\n",
      "fast 1\n",
      "fast 4\n",
      "fast 9\n",
      "fast 16\n"
     ]
    }
   ],
   "source": [
    "def simple_gen():\n",
    "    for n in range(3):\n",
    "        yield n\n",
    "        \n",
    "for num in simple_gen(): # Não salva em memória, vai criando os números a cada passo\n",
    "    print num\n",
    "    \n",
    "g = simple_gen()\n",
    "print next(g)\n",
    "print next(g)\n",
    "print next(g)\n",
    "# print next(simple_gen()) daria a exceção StopIteration\n",
    "\n",
    "s = 'ten'\n",
    "s_iter = iter(s)\n",
    "print s\n",
    "print s_iter\n",
    "print next(s_iter)\n",
    "print next(s_iter)\n",
    "print next(s_iter)\n",
    "# print next(s_iter) daria a exceção StopIteration\n",
    "\n",
    "def square_gen(n):\n",
    "    for number in range(n):\n",
    "        yield number ** 2\n",
    "        \n",
    "for i in square_gen(5):\n",
    "    print i\n",
    "    \n",
    "fast_square_gen = (number ** 2 for number in range(5))\n",
    "for i in fast_square_gen:\n",
    "    print 'fast ' + str(i)"
   ]
  },
  {
   "cell_type": "code",
   "execution_count": 44,
   "metadata": {},
   "outputs": [
    {
     "name": "stdout",
     "output_type": "stream",
     "text": [
      "Counter({1: 3, 3: 3, 7: 3, 2: 2, 4: 2, 5: 2, 6: 1})\n",
      "Counter({'a': 4, 'e': 4, 'd': 4, 's': 4, 'q': 2, 'w': 2, 'c': 1, 'x': 1, 'z': 1})\n",
      "[('a', 4), ('e', 4)]\n"
     ]
    }
   ],
   "source": [
    "from collections import Counter\n",
    "print Counter([1,2,4,1,3,5,1,2,3,6,4,7,7,5,3,7])\n",
    "c = Counter('asdqweeeqweasdzxcasdasd')\n",
    "print c\n",
    "print c.most_common(2)"
   ]
  },
  {
   "cell_type": "code",
   "execution_count": 13,
   "metadata": {},
   "outputs": [
    {
     "name": "stdout",
     "output_type": "stream",
     "text": [
      "1\n",
      "<object object at 0x7f4636044c70>\n",
      "0\n",
      "defaultdict(<function <lambda> at 0x7f4628020488>, {'k2': 0, 'k1': 'one'})\n",
      "None\n",
      "defaultdict(<function <lambda> at 0x7f4628020578>, {'k2': None, 'k1': 'one'})\n"
     ]
    }
   ],
   "source": [
    "from collections import defaultdict\n",
    "d1 = {'k1':1}\n",
    "print d1['k1']\n",
    "# print d['k2'] daria o KeyError\n",
    "\n",
    "d2 = defaultdict(object) # Cria um object para chaves que ainda não existem\n",
    "d2['k1'] = 'one'\n",
    "print d2['k2']\n",
    "\n",
    "d3 = defaultdict(lambda: 0) # Cria um 0 para chaves que ainda não existem\n",
    "d3['k1'] = 'one'\n",
    "print d3['k2']\n",
    "print d3\n",
    "\n",
    "d4 = defaultdict(lambda: None) # 'Null' para chaves que ainda não existem\n",
    "d4['k1'] = 'one'\n",
    "print d4['k2']\n",
    "print d4"
   ]
  },
  {
   "cell_type": "code",
   "execution_count": 18,
   "metadata": {},
   "outputs": [
    {
     "name": "stdout",
     "output_type": "stream",
     "text": [
      "1\n",
      "3\n",
      "2\n",
      "1\n",
      "2\n",
      "3\n"
     ]
    }
   ],
   "source": [
    "from collections import OrderedDict\n",
    "\n",
    "d1 = {}\n",
    "d1['a'] = 1\n",
    "d1['b'] = 2\n",
    "d1['c'] = 3\n",
    "for k,v in d1.items():\n",
    "    print v # sem ordem\n",
    "    \n",
    "d2 = OrderedDict()\n",
    "d2['a'] = 1\n",
    "d2['b'] = 2\n",
    "d2['c'] = 3\n",
    "for k,v in d2.items():\n",
    "    print v # na ordem que adicionou"
   ]
  },
  {
   "cell_type": "code",
   "execution_count": 41,
   "metadata": {},
   "outputs": [
    {
     "name": "stdout",
     "output_type": "stream",
     "text": [
      "Dog(name='Sammy', age=2, owner='Rafael')\n",
      "Sammy\n",
      "2\n",
      "Rafael\n"
     ]
    }
   ],
   "source": [
    "from collections import namedtuple\n",
    "Dog = namedtuple('Dog', 'name age owner') # classe rápida, atributos separados por espaço na string\n",
    "sam = Dog('Sammy', 2, 'Rafael')\n",
    "print sam\n",
    "print sam.name\n",
    "print sam.age\n",
    "print sam.owner\n",
    "# Named tuples não aceitam atributos novos, além dos declarados, mas as classes normais aceitam"
   ]
  },
  {
   "cell_type": "code",
   "execution_count": 69,
   "metadata": {},
   "outputs": [
    {
     "name": "stdout",
     "output_type": "stream",
     "text": [
      "05:19:23.000007\n",
      "2017-08-31\n",
      "1994-05-24\n",
      "2017-05-31\n",
      "1995-04-23 05:17:53.015776\n"
     ]
    }
   ],
   "source": [
    "import datetime\n",
    "\n",
    "time = datetime.time(5, 19, 23, 7) # hora, minuto, secundo e milissegundo\n",
    "print time\n",
    "\n",
    "today = datetime.date.today()\n",
    "print today\n",
    "\n",
    "date = datetime.date(1994, 5, 24)\n",
    "print date\n",
    "\n",
    "other_day = today.replace(month=5) # pode mudar pelo nome da propriedade\n",
    "print other_day\n",
    "\n",
    "dt = datetime.datetime(1995, 4, 23, 5, 17, 53, 15776)\n",
    "print dt"
   ]
  },
  {
   "cell_type": "code",
   "execution_count": 71,
   "metadata": {},
   "outputs": [
    {
     "name": "stdout",
     "output_type": "stream",
     "text": [
      "0.271971940994\n",
      "0.219081878662\n",
      "0.147233009338\n"
     ]
    }
   ],
   "source": [
    "import timeit\n",
    "# construindo uma string 1-2-3-...-99\n",
    "print timeit.timeit('\"-\".join(str(n) for n in range(100))', number=10000)\n",
    "# number é a quantidade de vezes que a operação repete\n",
    "print timeit.timeit('\"-\".join([str(n) for n in range(100)])', number=10000)\n",
    "print timeit.timeit('\"-\".join(map(str, range(100)))', number=10000)"
   ]
  },
  {
   "cell_type": "code",
   "execution_count": 75,
   "metadata": {},
   "outputs": [
    {
     "data": {
      "text/plain": [
       "False"
      ]
     },
     "execution_count": 75,
     "metadata": {},
     "output_type": "execute_result"
    }
   ],
   "source": [
    "'asD 1'.islower()"
   ]
  },
  {
   "cell_type": "code",
   "execution_count": 36,
   "metadata": {},
   "outputs": [
    {
     "data": {
      "text/plain": [
       "{'a': 0, 'b': 1, 'c': 4}"
      ]
     },
     "execution_count": 36,
     "metadata": {},
     "output_type": "execute_result"
    }
   ],
   "source": [
    "# Iterar duas listas ao mesmo tempo com o zip:\n",
    "{k: v**2 for k, v in zip(['a', 'b', 'c'], range(3))} # pouco legível para chaves que não são baseadas em valor"
   ]
  },
  {
   "cell_type": "code",
   "execution_count": 2,
   "metadata": {},
   "outputs": [
    {
     "name": "stdout",
     "output_type": "stream",
     "text": [
      "Está contido\n"
     ]
    }
   ],
   "source": [
    "if 'Carneiro' in 'Rafael Carneiro de Castro':\n",
    "    print 'Está contido'"
   ]
  },
  {
   "cell_type": "code",
   "execution_count": null,
   "metadata": {
    "collapsed": true
   },
   "outputs": [],
   "source": [
    "\"\"\"\n",
    "Docstring aqui\n",
    "\"\"\"\n",
    "\n",
    "# Operando arquivos\n",
    "f = open('file_name.txt', 'r')\n",
    "content = f.read() # string única com o conteúdo\n",
    "f.seek(0) # voltar o pointer pro início do arquivo, posição 0\n",
    "lines = f.readlines() # lista de strings com as linhas\n",
    "f.close() # fechar o arquivo, salvando as alterações no modo write ('w')\n",
    "\n",
    "# Escrevendo\n",
    "f = open('file_name.txt', 'w') # o arquivo é limpo quando se abre nesse modo\n",
    "f.write('New line')\n",
    "f.close() # só salva as alterações aqui no close\n",
    "\n",
    "# Acrescentando linhas\n",
    "f = open('file_name.txt', 'a') # aqui o arquivo não é limpo quando aberto, modo append\n",
    "f.write('New line')\n",
    "f.close() # só salva as alterações aqui no close\n",
    "\n",
    "# Usando o with para lipar o código\n",
    "with open('file_name.txt', 'a+') as f:\n",
    "    f.seek(0)\n",
    "    content = f.readlines() # content vai ser acessível fora do escopo do with!!!\n",
    "    f.write('New line again')\n",
    "    # não precisa fechar o arquivo\n",
    "    \n",
    "print content"
   ]
  }
 ],
 "metadata": {
  "kernelspec": {
   "display_name": "Python 3",
   "language": "python",
   "name": "python3"
  },
  "language_info": {
   "codemirror_mode": {
    "name": "ipython",
    "version": 3
   },
   "file_extension": ".py",
   "mimetype": "text/x-python",
   "name": "python",
   "nbconvert_exporter": "python",
   "pygments_lexer": "ipython3",
   "version": "3.6.1"
  }
 },
 "nbformat": 4,
 "nbformat_minor": 2
}
